{
 "cells": [
  {
   "cell_type": "markdown",
   "metadata": {},
   "source": [
    "<center>\n",
    "    <img src=\"https://cf-courses-data.s3.us.cloud-object-storage.appdomain.cloud/IBMDeveloperSkillsNetwork-DS0105EN-SkillsNetwork/labs/Module2/images/SN_web_lightmode.png\" width=\"300\" alt=\"cognitiveclass.ai logo\">\n",
    "</center>\n"
   ]
  },
  {
   "cell_type": "markdown",
   "metadata": {
    "tags": []
   },
   "source": [
    "#### Add your code below following the instructions given in the course\n"
   ]
  },
  {
   "cell_type": "markdown",
   "metadata": {
    "tags": []
   },
   "source": [
    "# Mouheeb First Project"
   ]
  },
  {
   "cell_type": "markdown",
   "metadata": {
    "tags": []
   },
   "source": [
    "# This notebook explores various data science languages. Below is an ordered list of some popular languages:\n",
    "\n",
    "1. Python\n",
    "2. R\n",
    "3. Julia\n",
    "4. MATLAB\n",
    "5. SAS"
   ]
  },
  {
   "cell_type": "markdown",
   "metadata": {},
   "source": [
    "# This notebook explores various data science libraries. Below is an ordered list of some popular libraries:\n",
    "\n",
    "1. NumPy\n",
    "2. Pandas\n",
    "3. Matplotlib\n",
    "4. Seaborn\n",
    "5. Scikit-learn"
   ]
  },
  {
   "cell_type": "markdown",
   "metadata": {},
   "source": [
    "| Tool          | Description                             |\n",
    "|---------------|-----------------------------------------|\n",
    "| Python        | General-purpose programming language     |\n",
    "| R             | Statistical programming language         |\n",
    "| Julia         | High-level programming language          |\n",
    "| MATLAB        | Numerical computing and programming      |\n",
    "| SAS           | Statistical analysis system              |\n",
    "| SQL           | Database querying language               |\n",
    "| TensorFlow    | Machine learning framework               |\n",
    "| PyTorch       | Deep learning framework                  |\n",
    "| Spark         | Distributed data processing framework    |\n",
    "| Tableau       | Data visualization tool                  |"
   ]
  },
  {
   "cell_type": "markdown",
   "metadata": {},
   "source": [
    "Arithmetic expressions are mathematical expressions that involve numerical values and mathematical operators. They are used to perform calculations and evaluate mathematical equations.\n",
    "\n",
    "For example, the arithmetic expression `3 + 4` represents the addition of the numbers 3 and 4, which evaluates to `7`. Similarly, the expression `5 * 2` represents the multiplication of the numbers 5 and 2, resulting in `10`.\n",
    "\n",
    "Arithmetic expressions can include various mathematical operations, such as addition, subtraction, multiplication, division, and more. They allow you to perform calculations and manipulate numerical values in your code or calculations."
   ]
  },
  {
   "cell_type": "code",
   "execution_count": 14,
   "metadata": {
    "tags": []
   },
   "outputs": [
    {
     "name": "stdout",
     "output_type": "stream",
     "text": [
      "The product is: 15\n",
      "The sum is: 12\n"
     ]
    }
   ],
   "source": [
    "# Multiply two numbers\n",
    "num1 = 5\n",
    "num2 = 3\n",
    "product = num1 * num2\n",
    "print(\"The product is:\", product)\n",
    "\n",
    "# Add two numbers\n",
    "num3 = 10\n",
    "num4 = 2\n",
    "sum = num3 + num4\n",
    "print(\"The sum is:\", sum)"
   ]
  },
  {
   "cell_type": "code",
   "execution_count": 15,
   "metadata": {
    "tags": []
   },
   "outputs": [
    {
     "name": "stdout",
     "output_type": "stream",
     "text": [
      "The equivalent hours is: 2.5\n"
     ]
    }
   ],
   "source": [
    "# Convert minutes to hours\n",
    "minutes = 150\n",
    "hours = minutes / 60\n",
    "\n",
    "print(\"The equivalent hours is:\", hours)"
   ]
  },
  {
   "cell_type": "markdown",
   "metadata": {},
   "source": [
    "In data science, there are various tools and techniques that are commonly used for analysis and modeling. Some of the key ones include:\n",
    "\n",
    "- Python\n",
    "- R\n",
    "- SQL\n",
    "- Jupyter Notebook\n",
    "- Pandas\n",
    "- NumPy\n",
    "- Scikit-learn\n",
    "- TensorFlow\n",
    "- Tableau\n",
    "\n"
   ]
  },
  {
   "cell_type": "markdown",
   "metadata": {},
   "source": [
    "**Author: John Doe**"
   ]
  },
  {
   "cell_type": "code",
   "execution_count": null,
   "metadata": {},
   "outputs": [],
   "source": []
  }
 ],
 "metadata": {
  "kernelspec": {
   "display_name": "Python",
   "language": "python",
   "name": "conda-env-python-py"
  },
  "language_info": {
   "codemirror_mode": {
    "name": "ipython",
    "version": 3
   },
   "file_extension": ".py",
   "mimetype": "text/x-python",
   "name": "python",
   "nbconvert_exporter": "python",
   "pygments_lexer": "ipython3",
   "version": "3.7.12"
  }
 },
 "nbformat": 4,
 "nbformat_minor": 4
}
